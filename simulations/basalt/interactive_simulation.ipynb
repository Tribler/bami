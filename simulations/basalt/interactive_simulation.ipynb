{
 "cells": [
  {
   "cell_type": "code",
   "execution_count": 1,
   "outputs": [
    {
     "name": "stdout",
     "output_type": "stream",
     "text": [
      "IPv8 peer discovery complete\n",
      "Simulation setup took 4.190549 seconds\n",
      "Starting simulation with 50 peers...\n",
      "Simulation took 22.071765 seconds\n"
     ]
    }
   ],
   "source": [
    "from bami.basalt.community import BasaltCommunity\n",
    "from common.utils import connected_topology\n",
    "import logging\n",
    "\n",
    "from simulations.settings import LocalLocations, SimulationSettings\n",
    "from asyncio import ensure_future\n",
    "from simulations.basalt.basic_simulation import BasicBasaltSimulation\n",
    "\n",
    "from multiprocess import Process, Queue\n",
    "\n",
    "settings = SimulationSettings()\n",
    "settings.peers = 50\n",
    "settings.duration = 50\n",
    "settings.topology = connected_topology(50)\n",
    "\n",
    "settings.location_latency_generator = LocalLocations\n",
    "\n",
    "logging.basicConfig(format='%(message)s',\n",
    "                    filename='logs.log',\n",
    "                    filemode='w',\n",
    "                    level=logging.INFO)\n",
    "\n",
    "\n",
    "def run_simulation(queue):\n",
    "    simulation = BasicBasaltSimulation(settings, {'BasaltCommunity': BasaltCommunity})\n",
    "    ensure_future(simulation.run())\n",
    "    simulation.loop.run_forever()\n",
    "\n",
    "    # Output results of the simulation\n",
    "    key_to_id = {node_ins.overlays[0].my_peer.mid: node_num for node_num, node_ins in simulation.nodes.items()}\n",
    "    view_vals = [key_to_id[p.mid] for p in simulation.nodes[1].overlays[0].view]\n",
    "    queue.put(view_vals)\n",
    "    return\n",
    "\n",
    "# Start simulations\n",
    "queue = Queue()\n",
    "p = Process(target=run_simulation, args=(queue,))\n",
    "p.start()\n",
    "p.join()"
   ],
   "metadata": {
    "collapsed": false,
    "pycharm": {
     "name": "#%%\n"
    }
   }
  },
  {
   "cell_type": "code",
   "execution_count": 2,
   "outputs": [
    {
     "data": {
      "text/plain": "[38, 34, 32, 19, 33, 17, 7, 34, 8, 2, 23, 12, 15, 40, 7, 19, 40, 14, 13, 6]"
     },
     "execution_count": 2,
     "metadata": {},
     "output_type": "execute_result"
    }
   ],
   "source": [
    "# 2. Analyze the results\n",
    "s = queue.get()\n",
    "s"
   ],
   "metadata": {
    "collapsed": false,
    "pycharm": {
     "name": "#%%\n"
    }
   }
  },
  {
   "cell_type": "code",
   "execution_count": null,
   "outputs": [],
   "source": [],
   "metadata": {
    "collapsed": false,
    "pycharm": {
     "name": "#%%\n"
    }
   }
  },
  {
   "cell_type": "code",
   "execution_count": null,
   "outputs": [],
   "source": [],
   "metadata": {
    "collapsed": false,
    "pycharm": {
     "name": "#%%\n",
     "is_executing": true
    }
   }
  }
 ],
 "metadata": {
  "kernelspec": {
   "display_name": "Python 3",
   "language": "python",
   "name": "python3"
  },
  "language_info": {
   "codemirror_mode": {
    "name": "ipython",
    "version": 2
   },
   "file_extension": ".py",
   "mimetype": "text/x-python",
   "name": "python",
   "nbconvert_exporter": "python",
   "pygments_lexer": "ipython2",
   "version": "2.7.6"
  }
 },
 "nbformat": 4,
 "nbformat_minor": 0
}